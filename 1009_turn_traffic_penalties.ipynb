{
 "cells": [
  {
   "cell_type": "code",
   "execution_count": null,
   "metadata": {
    "id": "rL0qzmy5Q4wP"
   },
   "outputs": [],
   "source": [
    "# import libraries\n",
    "import multiprocessing as mp\n",
    "import geopandas as gpd\n",
    "import osmnx as ox\n",
    "import networkx as nx\n",
    "import numpy as np\n",
    "import pandas as pd\n",
    "import matplotlib.pyplot as plt\n",
    "from shapely import wkt\n",
    "from warnings import warn\n",
    "from heapq import heappop, heappush\n",
    "from itertools import count"
   ]
  },
  {
   "cell_type": "code",
   "execution_count": null,
   "metadata": {
    "id": "NXevHLTFQ4wQ"
   },
   "outputs": [],
   "source": [
    "# generate G of LA County\n",
    "G = ox.graph_from_place('Los Angeles County, CA, USA', network_type='drive')"
   ]
  },
  {
   "cell_type": "code",
   "execution_count": null,
   "metadata": {
    "id": "ccD7UyBNQ4wR"
   },
   "outputs": [],
   "source": [
    "# add attributes\n",
    "G = ox.add_edge_speeds(G)\n",
    "G = ox.add_edge_travel_times(G)\n",
    "G = ox.bearing.add_edge_bearings(G)"
   ]
  },
  {
   "cell_type": "code",
   "execution_count": null,
   "metadata": {
    "id": "sKNOOBN0Q4wR"
   },
   "outputs": [],
   "source": [
    "# create gdfs\n",
    "nodes_gdf, edges_gdf = ox.graph_to_gdfs(G)"
   ]
  },
  {
   "cell_type": "code",
   "execution_count": null,
   "metadata": {
    "id": "oBQhpaBBQ4wR"
   },
   "outputs": [],
   "source": [
    "# import O,D\n",
    "origins_df = pd.read_csv(\"../Data/origins_gdf.csv\")\n",
    "destinations_df = pd.read_csv(\"../Data/destinations_gdf.csv\")\n",
    "\n",
    "origins_df['geometry'] = origins_df['geometry'].apply(wkt.loads)\n",
    "destinations_df['geometry'] = destinations_df['geometry'].apply(wkt.loads)\n",
    "\n",
    "# geodataframe of O, D\n",
    "origins_gdf = gpd.GeoDataFrame(origins_df, geometry='geometry')\n",
    "destinations_gdf = gpd.GeoDataFrame(destinations_df, geometry='geometry')"
   ]
  },
  {
   "cell_type": "markdown",
   "metadata": {
    "id": "Uok3SOu7Q4wR"
   },
   "source": [
    "# Add attributes to G edges"
   ]
  },
  {
   "cell_type": "markdown",
   "metadata": {},
   "source": [
    "Use add_edge_traffic_times function to add extra time based on traffic controls"
   ]
  },
  {
   "cell_type": "code",
   "execution_count": null,
   "metadata": {},
   "outputs": [],
   "source": [
    "from functions import add_edge_traffic_times"
   ]
  },
  {
   "cell_type": "code",
   "execution_count": null,
   "metadata": {
    "id": "ZHb4DxkvmmBb"
   },
   "outputs": [],
   "source": [
    "G = add_edge_traffic_times(G, traffic_signals_time = 30, stop_time = 15, turning_circle_time = 5, crossing_time = 5, give_way_time = 5, mini_roundabout_time = 5)"
   ]
  },
  {
   "cell_type": "code",
   "execution_count": null,
   "metadata": {
    "id": "INFTkc1BQ4wT"
   },
   "outputs": [],
   "source": [
    "# create gdfs\n",
    "nodes_gdf, edges_gdf = ox.graph_to_gdfs(G)"
   ]
  },
  {
   "cell_type": "code",
   "execution_count": null,
   "metadata": {},
   "outputs": [],
   "source": [
    "edges_gdf"
   ]
  },
  {
   "cell_type": "code",
   "execution_count": null,
   "metadata": {
    "id": "CQLgp09_Q4wT",
    "outputId": "17985e4c-15ef-43f1-f517-bbe954a26af8"
   },
   "outputs": [],
   "source": [
    "edges_gdf[['travel_time', 'traffic_time', 'total_time']]"
   ]
  },
  {
   "cell_type": "markdown",
   "metadata": {
    "id": "X7hrWImSQ4wT"
   },
   "source": [
    "# Penalty functions"
   ]
  },
  {
   "cell_type": "markdown",
   "metadata": {},
   "source": [
    "Use get_turn_penalty_dict function to get turn penalty dictionary"
   ]
  },
  {
   "cell_type": "code",
   "execution_count": null,
   "metadata": {},
   "outputs": [],
   "source": [
    "from functions import get_turn_penalty_dict"
   ]
  },
  {
   "cell_type": "code",
   "execution_count": null,
   "metadata": {
    "id": "EbE7DF-dQ4wT",
    "outputId": "26f7aaaa-9195-49e0-bae8-db63d7bd1aff"
   },
   "outputs": [],
   "source": [
    "penalty = get_turn_penalty_dict(G, left_turn_penalty = 30, right_turn_penalty = 10, u_turn_penalty = 90)"
   ]
  },
  {
   "cell_type": "code",
   "execution_count": null,
   "metadata": {},
   "outputs": [],
   "source": [
    "penalty"
   ]
  },
  {
   "cell_type": "markdown",
   "metadata": {
    "id": "7tyru0OPQ4wT"
   },
   "source": [
    "# shortest_path_turn_penalty"
   ]
  },
  {
   "cell_type": "markdown",
   "metadata": {
    "id": "7a1jkGwDQ4wU"
   },
   "source": [
    "https://github.com/maxtmng/shortest_path_turn_penalty/"
   ]
  },
  {
   "cell_type": "code",
   "execution_count": null,
   "metadata": {
    "id": "xfxvtcZeQ4wU",
    "outputId": "a24571bd-ec54-47ea-8b1c-4848c2be2205"
   },
   "outputs": [],
   "source": [
    "\"\"\"\n",
    "    Uses Dijkstra's algorithm to find the shortest weighted paths to one or multiple targets with turn penalty.\n",
    "    This function is adapted from networkx.algorithms.shortest_paths.weighted._dijkstra_multisource.\n",
    "    The turn penalty implementation is based on:\n",
    "    Ziliaskopoulos, A.K., Mahmassani, H.S., 1996. A note on least time path computation considering delays and prohibitions for intersection movements. Transportation Research Part B: Methodological 30, 359–367. https://doi.org/10.1016/0191-2615(96)00001-X\n",
    "    Parameters\n",
    "    ----------\n",
    "    G : NetworkX graph\n",
    "    source : non-empty iterable of nodes\n",
    "        Starting nodes for paths. If this is just an iterable containing\n",
    "        a single node, then all paths computed by this function will\n",
    "        start from that node. If there are two or more nodes in this\n",
    "        iterable, the computed paths may begin from any one of the start\n",
    "        nodes.\n",
    "    target : node label, single node or a list\n",
    "        Ending node (or a list of ending nodes) for path. Search is halted when any target is found.\n",
    "    weight: function\n",
    "        Function with (u, v, data) input that returns that edge's weight\n",
    "        or None to indicate a hidden edge\n",
    "    penalty : dict, optional (default={})\n",
    "        Dictionary containing turn penalties. The key is a tuple (u, v, m) where\n",
    "        u, v are the nodes of the current edge and m is the next node.\n",
    "    next_node : node, optional (default=None)\n",
    "        Next node to consider from the source.\n",
    "    Returns\n",
    "    -------\n",
    "    list of nodes\n",
    "        Path from source to target.\n",
    "    Raises\n",
    "    ------\n",
    "    NodeNotFound\n",
    "        If the source or target is not in `G`.\n",
    "    ValueError\n",
    "        If contradictory paths are found due to negative weights.\n",
    "    \"\"\""
   ]
  },
  {
   "cell_type": "code",
   "execution_count": null,
   "metadata": {
    "id": "FT9cn1ZRQ4wU"
   },
   "outputs": [],
   "source": [
    "## used the function without any modification\n",
    "\n",
    "def shortest_path_turn_penalty(G, source, target, weight=\"weight\", penalty={}, next_node = None):\n",
    "\n",
    "    G_succ = G._adj  # For speed-up (and works for both directed and undirected graphs)\n",
    "    weight = nx.algorithms.shortest_paths.weighted._weight_function(G, weight)\n",
    "    push = heappush\n",
    "    pop = heappop\n",
    "    dist = {}  # dictionary of final distances\n",
    "    paths = {source: [source]}\n",
    "    target_list = [target] if not isinstance(target, list) else target\n",
    "    reached_target = None\n",
    "    seen = {}\n",
    "    c = count()\n",
    "    fringe = []\n",
    "    seen[source] = {}\n",
    "    if next_node is None:\n",
    "        for m,_ in G_succ[source].items():\n",
    "            seen[source][m] = 0\n",
    "            push(fringe, (0, next(c), source, m))\n",
    "    else:\n",
    "        push(fringe, (0, next(c), source, next_node))\n",
    "    while fringe:\n",
    "        (d, _, v, m) = pop(fringe)\n",
    "        u = m\n",
    "        if v in dist:\n",
    "            if u in dist[v]:\n",
    "                continue  # already searched this node.\n",
    "        else:\n",
    "            dist[v] = {}\n",
    "        dist[v][u] = d\n",
    "        if v in target_list:\n",
    "            reached_target = v\n",
    "            break\n",
    "        e = G[v][u]\n",
    "        for m in G_succ[u]:\n",
    "            cost = weight(v, u, e)\n",
    "            if (v,u,m) in penalty:\n",
    "                cost += penalty[v,u,m]\n",
    "\n",
    "            if cost is None:\n",
    "                continue\n",
    "            vu_dist = dist[v][u] + cost\n",
    "            if u in dist:\n",
    "                if m in dist[u]:\n",
    "                    u_dist = dist[u][m]\n",
    "                    if vu_dist < u_dist:\n",
    "                        raise ValueError(\"Contradictory paths found:\", \"negative weights?\")\n",
    "            elif u not in seen or m not in seen[u] or vu_dist < seen[u][m]:\n",
    "                if u not in seen:\n",
    "                    seen[u] = {}\n",
    "                seen[u][m] = vu_dist\n",
    "                push(fringe, (vu_dist, next(c), u, m))\n",
    "                if paths is not None:\n",
    "                    paths[u] = paths[v] + [u]\n",
    "    # The optional predecessor and path dictionaries can be accessed\n",
    "    # by the caller via the pred and paths objects passed as arguments.\n",
    "    return paths[reached_target]"
   ]
  },
  {
   "cell_type": "markdown",
   "metadata": {},
   "source": [
    "Used get_routes_from_gdfs function to find routes of O-D pairs."
   ]
  },
  {
   "cell_type": "code",
   "execution_count": null,
   "metadata": {},
   "outputs": [],
   "source": [
    "def get_routes_from_gdfs(G, origins_gdf, destinations_gdf, weight='weight', penalty={}):\n",
    "  routes = []\n",
    "  for i in range(len(origins_gdf)):\n",
    "    # find nearest nodes\n",
    "    orig_node = ox.distance.nearest_nodes(G, origins_gdf.iloc[i]['geometry'].x, origins_gdf.iloc[i]['geometry'].y)\n",
    "    dest_node = ox.distance.nearest_nodes(G, destinations_gdf.iloc[i]['geometry'].x, destinations_gdf.iloc[i]['geometry'].y)\n",
    "        \n",
    "    # find routes while considering penalties\n",
    "    route = shortest_path_turn_penalty(G, orig_node, dest_node, weight='weight', penalty={})\n",
    "    routes.append(route)\n",
    "\n",
    "  return routes"
   ]
  },
  {
   "cell_type": "code",
   "execution_count": null,
   "metadata": {},
   "outputs": [],
   "source": [
    "routes = get_routes_from_gdfs(G, origins_gdf, destinations_gdf, weight='total_time', penalty=penalty)"
   ]
  },
  {
   "cell_type": "code",
   "execution_count": null,
   "metadata": {},
   "outputs": [],
   "source": [
    "# travel time of 10 O-D pair routes\n",
    "time_result = []\n",
    "\n",
    "for i in range(len(routes)):\n",
    "    x = sum(ox.utils_graph.get_route_edge_attributes(G, routes[i], 'total_time'))\n",
    "    time_result.append(x)"
   ]
  },
  {
   "cell_type": "code",
   "execution_count": null,
   "metadata": {},
   "outputs": [],
   "source": [
    "time_result"
   ]
  },
  {
   "cell_type": "code",
   "execution_count": null,
   "metadata": {},
   "outputs": [],
   "source": [
    "# format time_result\n",
    "def format_travel_time(seconds):\n",
    "    if seconds is None:\n",
    "        return None\n",
    "\n",
    "    rounded_seconds = round(seconds)\n",
    "    minutes, remaining_seconds = divmod(rounded_seconds, 60)\n",
    "    hours, minutes = divmod(minutes, 60)\n",
    "\n",
    "    formatted_time = []\n",
    "\n",
    "    if hours:\n",
    "        formatted_time.append(f\"{hours} hour\")\n",
    "\n",
    "    if minutes:\n",
    "        formatted_time.append(f\"{minutes} min\")\n",
    "\n",
    "    if remaining_seconds:\n",
    "        formatted_time.append(f\"{remaining_seconds} sec\")\n",
    "\n",
    "    return ' '.join(formatted_time)\n",
    "\n",
    "formatted_times = [format_travel_time(t) for t in time_result]"
   ]
  },
  {
   "cell_type": "code",
   "execution_count": null,
   "metadata": {},
   "outputs": [],
   "source": [
    "formatted_times"
   ]
  },
  {
   "cell_type": "markdown",
   "metadata": {
    "id": "9rIn98ESQ4wU"
   },
   "source": [
    "### TEST"
   ]
  },
  {
   "cell_type": "code",
   "execution_count": null,
   "metadata": {
    "id": "7H0dJ1ihQ4wU"
   },
   "outputs": [],
   "source": [
    "# sample\n",
    "## for test, used 7th O-D pair\n",
    "orig_node = ox.distance.nearest_nodes(G, origins_gdf.iloc[6]['geometry'].x, origins_gdf.iloc[6]['geometry'].y)\n",
    "dest_node = ox.distance.nearest_nodes(G, destinations_gdf.iloc[6]['geometry'].x, destinations_gdf.iloc[6]['geometry'].y)"
   ]
  },
  {
   "cell_type": "code",
   "execution_count": null,
   "metadata": {
    "id": "NcnZ-vtlQ4wU"
   },
   "outputs": [],
   "source": [
    "# with both traffic, turn penalties\n",
    "shortest_path = shortest_path_turn_penalty(G, orig_node, dest_node, weight=\"total_time\", penalty=penalty)"
   ]
  },
  {
   "cell_type": "code",
   "execution_count": null,
   "metadata": {
    "id": "NUhXKFT2Q4wU"
   },
   "outputs": [],
   "source": [
    "# without traffic or turn penalties\n",
    "# weight = 'travel_time'\n",
    "no_penalty = shortest_path_turn_penalty(G, orig_node, dest_node, weight='travel_time')"
   ]
  },
  {
   "cell_type": "code",
   "execution_count": null,
   "metadata": {
    "id": "44wEq9k8Q4wV"
   },
   "outputs": [],
   "source": [
    "# only traffic penalties\n",
    "only_traffic = shortest_path_turn_penalty(G, orig_node, dest_node, weight='total_time')"
   ]
  },
  {
   "cell_type": "code",
   "execution_count": null,
   "metadata": {
    "id": "sHNHMh_0Q4wV"
   },
   "outputs": [],
   "source": [
    "# only turn penalties\n",
    "only_turn = shortest_path_turn_penalty(G, orig_node, dest_node, weight='travel_time', penalty=penalty)"
   ]
  },
  {
   "cell_type": "code",
   "execution_count": null,
   "metadata": {},
   "outputs": [],
   "source": [
    "# difference in the routes\n",
    "# plot the routes on top of the network\n",
    "ox.plot_graph_routes(G, routes = [shortest_path, no_penalty, only_traffic, only_turn], route_linewidth=2, route_colors = ['r', 'b', 'g', 'y'], bgcolor='k', node_size=0)\n",
    "\n",
    "plt.show()\n"
   ]
  },
  {
   "cell_type": "markdown",
   "metadata": {
    "id": "cN4kiFFava7T"
   },
   "source": [
    "# Calculate time"
   ]
  },
  {
   "cell_type": "code",
   "execution_count": null,
   "metadata": {},
   "outputs": [],
   "source": [
    "# calculate the total travel time of each route\n",
    "no_penalties = sum(ox.utils_graph.get_route_edge_attributes(G, no_penalty, 'travel_time'))\n",
    "all_penalties = sum(ox.utils_graph.get_route_edge_attributes(G, shortest_path, 'total_time'))\n",
    "traffic_penalties = sum(ox.utils_graph.get_route_edge_attributes(G, only_traffic, 'total_time'))\n",
    "turn_penalites = sum(ox.utils_graph.get_route_edge_attributes(G, only_turn, 'travel_time'))"
   ]
  },
  {
   "cell_type": "code",
   "execution_count": null,
   "metadata": {},
   "outputs": [],
   "source": [
    "osmnx = ox.distance.shortest_path(G, orig_node, dest_node, weight='travel_time')\n",
    "osmnx_result = sum(ox.utils_graph.get_route_edge_attributes(G,osmnx, 'travel_time'))"
   ]
  },
  {
   "cell_type": "code",
   "execution_count": null,
   "metadata": {},
   "outputs": [],
   "source": [
    "data = {\n",
    "    'osmnx_result': [osmnx_result],\n",
    "    'no_penalties': [no_penalties],\n",
    "    'all_penalties': [all_penalties],\n",
    "    'traffic_penalties': [traffic_penalties],\n",
    "    'turn_penalites': [turn_penalites]\n",
    "}\n",
    "\n",
    "comparison = pd.DataFrame(data)"
   ]
  },
  {
   "cell_type": "code",
   "execution_count": null,
   "metadata": {},
   "outputs": [],
   "source": [
    "comparison"
   ]
  }
 ],
 "metadata": {
  "colab": {
   "provenance": []
  },
  "kernelspec": {
   "display_name": "Python (ppd599)",
   "language": "python",
   "name": "python31010jvsc74a57bd09459c1f1e6a42d62dba2ec1671ea395e68ff99b4f6ce754dc9cd2717ec5d1a8f"
  },
  "language_info": {
   "codemirror_mode": {
    "name": "ipython",
    "version": 3
   },
   "file_extension": ".py",
   "mimetype": "text/x-python",
   "name": "python",
   "nbconvert_exporter": "python",
   "pygments_lexer": "ipython3",
   "version": "3.10.10"
  },
  "vscode": {
   "interpreter": {
    "hash": "9459c1f1e6a42d62dba2ec1671ea395e68ff99b4f6ce754dc9cd2717ec5d1a8f"
   }
  }
 },
 "nbformat": 4,
 "nbformat_minor": 1
}
