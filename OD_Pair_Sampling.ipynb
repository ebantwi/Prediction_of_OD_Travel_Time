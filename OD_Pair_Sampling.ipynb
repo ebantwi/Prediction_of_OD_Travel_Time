{
 "cells": [
  {
   "cell_type": "code",
   "execution_count": null,
   "id": "initial_id",
   "metadata": {
    "collapsed": true
   },
   "outputs": [],
   "source": [
    "import geopandas as gpd\n",
    "import pandas as pd\n",
    "import osmnx as ox"
   ]
  },
  {
   "cell_type": "code",
   "execution_count": null,
   "outputs": [],
   "source": [
    "file_path = '../Data/'\n",
    "output_file_path = file_path + 'Output/'"
   ],
   "metadata": {
    "collapsed": false
   },
   "id": "940ac50093e4b16f"
  },
  {
   "cell_type": "markdown",
   "source": [
    "# Street network in LA county"
   ],
   "metadata": {
    "collapsed": false
   },
   "id": "668a8d6e949abb7e"
  },
  {
   "cell_type": "code",
   "execution_count": null,
   "outputs": [],
   "source": [
    "G = ox.graph_from_place('Los Angeles County, CA, USA', network_type='drive')"
   ],
   "metadata": {
    "collapsed": false
   },
   "id": "51c1e55855b00458"
  },
  {
   "cell_type": "markdown",
   "source": [
    "# Street network in LA urban settlement area, dataverse"
   ],
   "metadata": {
    "collapsed": false
   },
   "id": "b7279c0d34db1fea"
  },
  {
   "cell_type": "code",
   "execution_count": null,
   "outputs": [],
   "source": [
    "# street network for LA urban settlement area\n",
    "G_graphml = ox.io.load_graphml(file_path + 'los_angeles-14.graphml')\n",
    "fig, ax = ox.plot_graph(G_graphml)"
   ],
   "metadata": {
    "collapsed": false
   },
   "id": "8ae9497150cb2060"
  },
  {
   "cell_type": "code",
   "execution_count": null,
   "outputs": [],
   "source": [
    "# California census tract downloaded from census bureau\n",
    "CA_22tract = gpd.read_file(file_path + \"tl_2022_06_tract/tl_2022_06_tract.shp\")"
   ],
   "metadata": {
    "collapsed": false
   },
   "id": "7b930aa84b7e7a4c"
  },
  {
   "cell_type": "code",
   "execution_count": null,
   "outputs": [],
   "source": [
    "# Los Angeles census tract used by uber movements\n",
    "uber_tract = gpd.read_file(file_path + \"los_angeles_censustracts.json\")"
   ],
   "metadata": {
    "collapsed": false
   },
   "id": "b966067eeb38628"
  },
  {
   "cell_type": "code",
   "execution_count": null,
   "outputs": [],
   "source": [
    "CA_22tract.crs"
   ],
   "metadata": {
    "collapsed": false
   },
   "id": "ae50dd755ca96178"
  },
  {
   "cell_type": "code",
   "execution_count": null,
   "outputs": [],
   "source": [
    "CA_22tract_crs = CA_22tract.to_crs(4326)\n",
    "CA_22tract_crs.crs"
   ],
   "metadata": {
    "collapsed": false
   },
   "id": "d34a562f52695d99"
  },
  {
   "cell_type": "code",
   "execution_count": null,
   "outputs": [],
   "source": [
    "uber_tract.crs"
   ],
   "metadata": {
    "collapsed": false
   },
   "id": "87419ffdcba39ea2"
  },
  {
   "cell_type": "code",
   "execution_count": null,
   "outputs": [],
   "source": [
    "gdf_nodes, gdf_edges = ox.graph_to_gdfs(G)\n",
    "gdf = gdf_nodes.reset_index(drop=False)"
   ],
   "metadata": {
    "collapsed": false
   },
   "id": "2fc6c303209e8431"
  },
  {
   "cell_type": "code",
   "execution_count": null,
   "outputs": [],
   "source": [
    "gdf_proj = ox.project_gdf(gdf, to_latlong=True)\n",
    "gdf_proj['x'] = gdf_proj['geometry'].x\n",
    "gdf_proj['y'] = gdf_proj['geometry'].y"
   ],
   "metadata": {
    "collapsed": false
   },
   "id": "908d8a3842a6040c"
  },
  {
   "cell_type": "code",
   "execution_count": null,
   "outputs": [],
   "source": [
    "gdf_proj.crs"
   ],
   "metadata": {
    "collapsed": false
   },
   "id": "5147cf36c9d81293"
  },
  {
   "cell_type": "markdown",
   "source": [
    "# attach (spatial join) census tract GEOID and Uber Movement Tract Movement ID to all the nodes in LA county"
   ],
   "metadata": {
    "collapsed": false
   },
   "id": "a69561ff16c2e9e1"
  },
  {
   "cell_type": "code",
   "execution_count": null,
   "outputs": [],
   "source": [
    "selected_cols = [\"osmid\", \"y\", \"x\", \"highway\", \"street_count\", \"ref\",\n",
    "                 \"geometry\", \"GEOID\"]\n",
    "\n",
    "gdf_proj_tract = gpd.sjoin(gdf_proj, CA_22tract_crs, how='left', predicate='within')[selected_cols]\n",
    "gdf_proj_tract_uber = gpd.sjoin(gdf_proj_tract, uber_tract, how='left', predicate='within')[selected_cols + [\"MOVEMENT_ID\", \"TRACT\"]]\n",
    "gdf_proj_tract_uber"
   ],
   "metadata": {
    "collapsed": false
   },
   "id": "a9a18b21b2149478"
  },
  {
   "cell_type": "markdown",
   "source": [
    "# Sample 100,000 nodes as origin and destination (100,000 OD pairs) in Los Angeles County"
   ],
   "metadata": {
    "collapsed": false
   },
   "id": "be852a0b36196f19"
  },
  {
   "cell_type": "code",
   "execution_count": null,
   "outputs": [],
   "source": [
    "origin = gdf_proj_tract_uber.sample(100000, random_state=12345,\n",
    "                                    replace=True).copy()\n",
    "origin = origin[[\"osmid\", \"y\", \"x\", \"GEOID\", \"MOVEMENT_ID\"]]\n",
    "origin.columns = ['oid', 'oy', 'ox', 'oGEOID', 'oMOVEMENT_ID']\n",
    "destin = gdf_proj_tract_uber.sample(100000, random_state=12345,\n",
    "                                    replace=True).copy()\n",
    "destin = destin[[\"osmid\", \"y\", \"x\", \"GEOID\", \"MOVEMENT_ID\"]]\n",
    "destin.columns = ['did', 'dy', 'dx', 'dGEOID', 'dMOVEMENT_ID']"
   ],
   "metadata": {
    "collapsed": false
   },
   "id": "50d151297e81d716"
  },
  {
   "cell_type": "code",
   "execution_count": null,
   "outputs": [],
   "source": [
    "origin = origin.reset_index(drop=True)\n",
    "destin = destin.reset_index(drop=True)"
   ],
   "metadata": {
    "collapsed": false
   },
   "id": "dec8cbf419945c8c"
  },
  {
   "cell_type": "code",
   "execution_count": null,
   "outputs": [],
   "source": [
    "temp_OD = pd.concat([origin, destin], sort=False, axis=1)\n",
    "temp_OD = temp_OD.drop(temp_OD[temp_OD['oid'] == temp_OD['did']].index)"
   ],
   "metadata": {
    "collapsed": false
   },
   "id": "d4aca60df8e88e1"
  },
  {
   "cell_type": "markdown",
   "source": [
    "# attach (spatial join) census tract GEOID and Uber Movement Tract Movement ID to all the nodes in LA urban area"
   ],
   "metadata": {
    "collapsed": false
   },
   "id": "f36185fbda82cf7e"
  },
  {
   "cell_type": "code",
   "execution_count": null,
   "outputs": [],
   "source": [
    "gdfml_nodes, gdfml_edges = ox.graph_to_gdfs(G_graphml)\n",
    "gdfml = gdfml_nodes.reset_index(drop=False)"
   ],
   "metadata": {
    "collapsed": false
   },
   "id": "ba458c8c53ff93b7"
  },
  {
   "cell_type": "code",
   "execution_count": null,
   "outputs": [],
   "source": [
    "gdfml_proj = ox.project_gdf(gdfml, to_latlong=True)\n",
    "gdfml_proj['x'] = gdfml_proj['geometry'].x\n",
    "gdfml_proj['y'] = gdfml_proj['geometry'].y"
   ],
   "metadata": {
    "collapsed": false
   },
   "id": "11cb6a28a46e4bbc"
  },
  {
   "cell_type": "code",
   "execution_count": null,
   "outputs": [],
   "source": [
    "gdfml_proj_tract = gpd.sjoin(gdfml_proj, CA_22tract_crs, how='left',\n",
    "                             predicate='within')\n",
    "gdfml_proj_tract_clean = gdfml_proj_tract[\n",
    "    [\"osmid\", \"y\", \"x\", \"highway\", \"street_count\", \"ref\", \"geometry\", \"GEOID\"]]\n",
    "gdfml_proj_tract_uber = gpd.sjoin(gdfml_proj_tract_clean, uber_tract,\n",
    "                                  how='left', predicate='within')\n",
    "gdfml_proj_tract_uber_clean = gdfml_proj_tract_uber[\n",
    "    [\"osmid\", \"y\", \"x\", \"highway\", \"street_count\", \"ref\", \"geometry\", \"GEOID\",\n",
    "     \"MOVEMENT_ID\", \"TRACT\"]]\n",
    "gdfml_proj_tract_uber_clean"
   ],
   "metadata": {
    "collapsed": false
   },
   "id": "233e924f616ff812"
  },
  {
   "cell_type": "markdown",
   "source": [
    "# Sample 100,000 nodes as origin and destination (100,000 OD pairs) in Los Angeles County"
   ],
   "metadata": {
    "collapsed": false
   },
   "id": "78aed3b65cd6e9eb"
  },
  {
   "cell_type": "code",
   "execution_count": null,
   "outputs": [],
   "source": [
    "originml = gdfml_proj_tract_uber_clean.sample(100000, replace=True).copy()\n",
    "originml = originml[[\"osmid\", \"y\", \"x\", \"GEOID\", \"MOVEMENT_ID\"]]\n",
    "originml.columns = ['oid', 'oy', 'ox', 'oGEOID', 'oMOVEMENT_ID']\n",
    "destinml = gdfml_proj_tract_uber_clean.sample(100000, replace=True).copy()\n",
    "destinml = destinml[[\"osmid\", \"y\", \"x\", \"GEOID\", \"MOVEMENT_ID\"]]\n",
    "destinml.columns = ['did', 'dy', 'dx', 'dGEOID', 'dMOVEMENT_ID']"
   ],
   "metadata": {
    "collapsed": false
   },
   "id": "5c94c207466071f2"
  },
  {
   "cell_type": "code",
   "execution_count": null,
   "outputs": [],
   "source": [
    "originml = originml.reset_index(drop=True)\n",
    "destinml = destinml.reset_index(drop=True)"
   ],
   "metadata": {
    "collapsed": false
   },
   "id": "234a1a07f3140cb"
  },
  {
   "cell_type": "code",
   "execution_count": null,
   "outputs": [],
   "source": [
    "tempml_OD = pd.concat([originml, destinml], sort=False, axis=1)\n",
    "tempml_OD = tempml_OD.drop(\n",
    "    tempml_OD[tempml_OD['oid'] == tempml_OD['did']].index)"
   ],
   "metadata": {
    "collapsed": false
   },
   "id": "74f2a59877be70d4"
  },
  {
   "cell_type": "markdown",
   "source": [
    "# Save sampled PD pairs as csv"
   ],
   "metadata": {
    "collapsed": false
   },
   "id": "fcefa445fa084895"
  },
  {
   "cell_type": "code",
   "execution_count": null,
   "outputs": [],
   "source": [
    "tempml_OD.to_csv(output_file_path + \"tempml_OD.csv\")\n",
    "temp_OD.to_csv(output_file_path + \"temp_OD.csv\")"
   ],
   "metadata": {
    "collapsed": false
   },
   "id": "388a50f46840a5da"
  }
 ],
 "metadata": {
  "kernelspec": {
   "display_name": "Python 3",
   "language": "python",
   "name": "python3"
  },
  "language_info": {
   "codemirror_mode": {
    "name": "ipython",
    "version": 2
   },
   "file_extension": ".py",
   "mimetype": "text/x-python",
   "name": "python",
   "nbconvert_exporter": "python",
   "pygments_lexer": "ipython2",
   "version": "2.7.6"
  }
 },
 "nbformat": 4,
 "nbformat_minor": 5
}
